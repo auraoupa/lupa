{
 "cells": [
  {
   "cell_type": "code",
   "execution_count": 1,
   "metadata": {},
   "outputs": [
    {
     "ename": "ImportError",
     "evalue": "cannot import name basemap",
     "output_type": "error",
     "traceback": [
      "\u001b[0;31m---------------------------------------------------------------------------\u001b[0m",
      "\u001b[0;31mImportError\u001b[0m                               Traceback (most recent call last)",
      "\u001b[0;32m<ipython-input-1-9d81dfecaf19>\u001b[0m in \u001b[0;36m<module>\u001b[0;34m()\u001b[0m\n\u001b[1;32m      7\u001b[0m \u001b[0;32mimport\u001b[0m \u001b[0msys\u001b[0m\u001b[0;34m\u001b[0m\u001b[0m\n\u001b[1;32m      8\u001b[0m \u001b[0msys\u001b[0m\u001b[0;34m.\u001b[0m\u001b[0mpath\u001b[0m\u001b[0;34m.\u001b[0m\u001b[0minsert\u001b[0m\u001b[0;34m(\u001b[0m\u001b[0;36m0\u001b[0m\u001b[0;34m,\u001b[0m\u001b[0;34m\"/home/albert/lib/python\"\u001b[0m\u001b[0;34m)\u001b[0m\u001b[0;34m\u001b[0m\u001b[0m\n\u001b[0;32m----> 9\u001b[0;31m \u001b[0;32mimport\u001b[0m \u001b[0mGriddedData\u001b[0m\u001b[0;34m\u001b[0m\u001b[0m\n\u001b[0m\u001b[1;32m     10\u001b[0m \u001b[0;34m\u001b[0m\u001b[0m\n\u001b[1;32m     11\u001b[0m \u001b[0;32mimport\u001b[0m \u001b[0mmatplotlib\u001b[0m\u001b[0;34m.\u001b[0m\u001b[0mpyplot\u001b[0m \u001b[0;32mas\u001b[0m \u001b[0mplt\u001b[0m\u001b[0;34m\u001b[0m\u001b[0m\n",
      "\u001b[0;32m/home/alberta/lib/python/GriddedData.py\u001b[0m in \u001b[0;36m<module>\u001b[0;34m()\u001b[0m\n\u001b[1;32m     13\u001b[0m \u001b[0mnp\u001b[0m \u001b[0;34m=\u001b[0m \u001b[0mnpy\u001b[0m\u001b[0;34m\u001b[0m\u001b[0m\n\u001b[1;32m     14\u001b[0m \u001b[0;32mimport\u001b[0m \u001b[0mnumpy\u001b[0m\u001b[0;34m.\u001b[0m\u001b[0mma\u001b[0m \u001b[0;32mas\u001b[0m \u001b[0mma\u001b[0m\u001b[0;34m\u001b[0m\u001b[0m\n\u001b[0;32m---> 15\u001b[0;31m \u001b[0;32mfrom\u001b[0m \u001b[0mmpl_toolkits\u001b[0m \u001b[0;32mimport\u001b[0m \u001b[0mbasemap\u001b[0m\u001b[0;34m\u001b[0m\u001b[0m\n\u001b[0m\u001b[1;32m     16\u001b[0m \u001b[0;34m\u001b[0m\u001b[0m\n\u001b[1;32m     17\u001b[0m \u001b[0mdint\u001b[0m \u001b[0;34m=\u001b[0m \u001b[0mnpy\u001b[0m\u001b[0;34m.\u001b[0m\u001b[0mint8\u001b[0m\u001b[0;34m\u001b[0m\u001b[0m\n",
      "\u001b[0;31mImportError\u001b[0m: cannot import name basemap"
     ]
    }
   ],
   "source": [
    "## imports\n",
    "\n",
    "import numpy as np\n",
    "import numpy.ma as ma\n",
    "import xarray as xr\n",
    "\n",
    "import sys\n",
    "\n",
    "import matplotlib.pyplot as plt\n",
    "\n",
    "### palette\n",
    "import matplotlib.cm as mplcm\n",
    "import cartopy.crs as ccrs\n",
    "from cartopy.mpl.gridliner import LONGITUDE_FORMATTER, LATITUDE_FORMATTER\n",
    "import cartopy.feature as cfeature\n",
    "import cmocean\n",
    "\n",
    "seq_cmap = mplcm.Blues\n",
    "div_cmap = mplcm.seismic\n",
    "\n"
   ]
  },
  {
   "cell_type": "code",
   "execution_count": 2,
   "metadata": {},
   "outputs": [],
   "source": [
    "## Dataset\n",
    "\n",
    "dir=\"/mnt/alberta/equipes/IGE/meom/workdir/albert/NATL60/NATL60-CJM165-S/1d/filt-surf/\"\n",
    "dirin=\"/mnt/alberta/equipes/IGE/meom/workdir/albert/NATL60/NATL60-I/\"\n"
   ]
  },
  {
   "cell_type": "code",
   "execution_count": 3,
   "metadata": {},
   "outputs": [
    {
     "name": "stdout",
     "output_type": "stream",
     "text": [
      "/mnt/alberta/equipes/IGE/meom/workdir/albert/NATL60/NATL60-I/NATL60_v4.1_cdf_byte_mask.nc\r\n"
     ]
    }
   ],
   "source": [
    "gridfile=dirin+\"NATL60_v4.1_cdf_byte_mask.nc\"\n",
    "!ls $gridfile\n",
    "grid=xr.open_dataset(gridfile)\n",
    "navlat= grid['nav_lat']\n",
    "navlon= grid['nav_lon']\n"
   ]
  },
  {
   "cell_type": "code",
   "execution_count": 4,
   "metadata": {},
   "outputs": [],
   "source": [
    "filt_files01=\"NATL60-CJM165_y2013m01d*.1d_curloverf_filt-n80-f0.0125.nc\"\n",
    "filt_files02=\"NATL60-CJM165_y2013m02d*.1d_curloverf_filt-n80-f0.0125.nc\"\n",
    "filt_files03=\"NATL60-CJM165_y2013m03d*.1d_curloverf_filt-n80-f0.0125.nc\"\n",
    "filt_files04=\"NATL60-CJM165_y2013m04d*.1d_curloverf_filt-n80-f0.0125.nc\"\n",
    "filt_files05=\"NATL60-CJM165_y2013m05d*.1d_curloverf_filt-n80-f0.0125.nc\"\n",
    "filt_files06=\"NATL60-CJM165_y2013m06d*.1d_curloverf_filt-n80-f0.0125.nc\"\n",
    "filt_files07=\"NATL60-CJM165_y2013m07d*.1d_curloverf_filt-n80-f0.0125.nc\"\n",
    "filt_files08=\"NATL60-CJM165_y2013m08d*.1d_curloverf_filt-n80-f0.0125.nc\"\n",
    "filt_files09=\"NATL60-CJM165_y2013m09d*.1d_curloverf_filt-n80-f0.0125.nc\"\n",
    "filt_files10=\"NATL60-CJM165_y2012m10d*.1d_curloverf_filt-n80-f0.0125.nc\"\n",
    "filt_files11=\"NATL60-CJM165_y2012m11d*.1d_curloverf_filt-n80-f0.0125.nc\"\n",
    "filt_files12=\"NATL60-CJM165_y2012m12d*.1d_curloverf_filt-n80-f0.0125.nc\"\n",
    "\n",
    "tf_files01=dir+filt_files01\n",
    "tf_files02=dir+filt_files02\n",
    "tf_files03=dir+filt_files03\n",
    "tf_files04=dir+filt_files04\n",
    "tf_files05=dir+filt_files05\n",
    "tf_files06=dir+filt_files06\n",
    "tf_files07=dir+filt_files07\n",
    "tf_files08=dir+filt_files08\n",
    "tf_files09=dir+filt_files09\n",
    "tf_files10=dir+filt_files10\n",
    "tf_files11=dir+filt_files11\n",
    "tf_files12=dir+filt_files12\n",
    "\n"
   ]
  },
  {
   "cell_type": "code",
   "execution_count": 5,
   "metadata": {},
   "outputs": [],
   "source": [
    "def fine_scale_variance(files):\n",
    "    ''' from a list of files containing one month of data compute variance and average in 1°x1°x1 month boxes\n",
    "    '''\n",
    "    hpcurl = xr.open_mfdataset(files,concat_dim='time_counter',decode_times=False)['socurloverf_filt']\n",
    "    hpcurl2 = hpcurl ** 2\n",
    "    hpcurl2m = hpcurl2.mean(axis=0,keep_attrs=True)\n",
    "    navlat2=np.array(navlat).squeeze()\n",
    "    navlon2=np.array(navlon).squeeze()\n",
    "    mgrd = GriddedData.grid2D(navlat=navlat2, navlon=navlon2)\n",
    "    crs = GriddedData.grdCoarsener(mgrd,crs_factor=60)\n",
    "    hpcurl2mc = crs.return_ravel(np.asarray(hpcurl2m))\n",
    "    hpcurl2mcm = np.mean(hpcurl2mc,axis=-3)\n",
    "    latcrs=crs.return_ravel(np.asarray(navlat2))\n",
    "    loncrs=crs.return_ravel(np.asarray(navlon2))\n",
    "    latcrsm=np.mean(latcrs,axis=-3)\n",
    "    loncrsm=np.mean(loncrs,axis=-3)\n",
    "    return loncrsm,latcrsm,hpcurl2mcm,hpcurl2m\n",
    "\n"
   ]
  },
  {
   "cell_type": "code",
   "execution_count": 7,
   "metadata": {},
   "outputs": [],
   "source": [
    "loncrsm03, latcrsm03, boxvarcurl03, hpvarm03 = fine_scale_variance(tf_files03)"
   ]
  },
  {
   "cell_type": "code",
   "execution_count": null,
   "metadata": {},
   "outputs": [],
   "source": []
  }
 ],
 "metadata": {
  "kernelspec": {
   "display_name": "lupa",
   "language": "python",
   "name": "lupa"
  },
  "language_info": {
   "codemirror_mode": {
    "name": "ipython",
    "version": 2
   },
   "file_extension": ".py",
   "mimetype": "text/x-python",
   "name": "python",
   "nbconvert_exporter": "python",
   "pygments_lexer": "ipython2",
   "version": "2.7.16"
  }
 },
 "nbformat": 4,
 "nbformat_minor": 2
}
