{
 "cells": [
  {
   "cell_type": "code",
   "execution_count": 24,
   "metadata": {},
   "outputs": [],
   "source": [
    "## imports\n",
    "\n",
    "import numpy as np\n",
    "import numpy.ma as ma\n",
    "import xarray as xr\n",
    "\n",
    "import sys\n",
    "sys.path.insert(0,\"/home/albert/lib/python\")\n",
    "import GriddedData\n",
    "\n",
    "import matplotlib.pyplot as plt\n",
    "\n",
    "### palette\n",
    "import matplotlib.cm as mplcm\n",
    "\n",
    "seq_cmap = mplcm.Blues\n",
    "div_cmap = mplcm.seismic\n",
    "\n",
    "import glob"
   ]
  },
  {
   "cell_type": "code",
   "execution_count": 3,
   "metadata": {},
   "outputs": [],
   "source": [
    "## Dataset\n",
    "\n",
    "dir=\"/mnt/alberta/equipes/IGE/meom/workdir/albert/NATL60/NATL60-CJM165-S/1d/filt-surf/\"\n",
    "dirin=\"/mnt/alberta/equipes/IGE/meom/workdir/albert/NATL60/NATL60-I/\"\n"
   ]
  },
  {
   "cell_type": "code",
   "execution_count": 4,
   "metadata": {},
   "outputs": [
    {
     "name": "stdout",
     "output_type": "stream",
     "text": [
      "/mnt/alberta/equipes/IGE/meom/workdir/albert/NATL60/NATL60-I/NATL60_v4.1_cdf_byte_mask.nc\r\n"
     ]
    }
   ],
   "source": [
    "gridfile=dirin+\"NATL60_v4.1_cdf_byte_mask.nc\"\n",
    "!ls $gridfile\n",
    "grid=xr.open_dataset(gridfile)\n",
    "navlat= grid['nav_lat']\n",
    "navlon= grid['nav_lon']\n"
   ]
  },
  {
   "cell_type": "code",
   "execution_count": 5,
   "metadata": {},
   "outputs": [],
   "source": [
    "filt_files01=\"NATL60-CJM165_y2013m01d*.1d_curloverf_filt-n80-f0.0125.nc\"\n",
    "filt_files02=\"NATL60-CJM165_y2013m02d*.1d_curloverf_filt-n80-f0.0125.nc\"\n",
    "filt_files03=\"NATL60-CJM165_y2013m03d*.1d_curloverf_filt-n80-f0.0125.nc\"\n",
    "filt_files04=\"NATL60-CJM165_y2013m04d*.1d_curloverf_filt-n80-f0.0125.nc\"\n",
    "filt_files05=\"NATL60-CJM165_y2013m05d*.1d_curloverf_filt-n80-f0.0125.nc\"\n",
    "filt_files06=\"NATL60-CJM165_y2013m06d*.1d_curloverf_filt-n80-f0.0125.nc\"\n",
    "filt_files07=\"NATL60-CJM165_y2013m07d*.1d_curloverf_filt-n80-f0.0125.nc\"\n",
    "filt_files08=\"NATL60-CJM165_y2013m08d*.1d_curloverf_filt-n80-f0.0125.nc\"\n",
    "filt_files09=\"NATL60-CJM165_y2013m09d*.1d_curloverf_filt-n80-f0.0125.nc\"\n",
    "filt_files10=\"NATL60-CJM165_y2012m10d*.1d_curloverf_filt-n80-f0.0125.nc\"\n",
    "filt_files11=\"NATL60-CJM165_y2012m11d*.1d_curloverf_filt-n80-f0.0125.nc\"\n",
    "filt_files12=\"NATL60-CJM165_y2012m12d*.1d_curloverf_filt-n80-f0.0125.nc\"\n",
    "\n",
    "tf_files01=dir+filt_files01\n",
    "tf_files02=dir+filt_files02\n",
    "tf_files03=dir+filt_files03\n",
    "tf_files04=dir+filt_files04\n",
    "tf_files05=dir+filt_files05\n",
    "tf_files06=dir+filt_files06\n",
    "tf_files07=dir+filt_files07\n",
    "tf_files08=dir+filt_files08\n",
    "tf_files09=dir+filt_files09\n",
    "tf_files10=dir+filt_files10\n",
    "tf_files11=dir+filt_files11\n",
    "tf_files12=dir+filt_files12\n",
    "\n"
   ]
  },
  {
   "cell_type": "code",
   "execution_count": 13,
   "metadata": {},
   "outputs": [],
   "source": [
    "def fine_scale_variance(files):\n",
    "    ''' from a list of files containing one month of data compute variance and average in 1°x1°x1 month boxes\n",
    "    '''\n",
    "    hpcurl = xr.open_mfdataset(files,concat_dim='time_counter',decode_times=False)['socurloverf_filt']\n",
    "    hpcurl2 = hpcurl ** 2\n",
    "    hpcurl2m = hpcurl2.mean(axis=0,keep_attrs=True)\n",
    "    navlat2=np.array(navlat).squeeze()\n",
    "    navlon2=np.array(navlon).squeeze()\n",
    "    mgrd = GriddedData.grid2D(navlat=navlat2, navlon=navlon2)\n",
    "    crs = GriddedData.grdCoarsener(mgrd,crs_factor=60)\n",
    "    hpcurl2mc = crs.return_ravel(np.asarray(hpcurl2m))\n",
    "    hpcurl2mcm = np.mean(hpcurl2mc,axis=-3)\n",
    "    latcrs=crs.return_ravel(np.asarray(navlat2))\n",
    "    loncrs=crs.return_ravel(np.asarray(navlon2))\n",
    "    latcrsm=np.mean(latcrs,axis=-3)\n",
    "    loncrsm=np.mean(loncrs,axis=-3)\n",
    "    return loncrsm,latcrsm,hpcurl2mcm,hpcurl2m\n",
    "\n"
   ]
  },
  {
   "cell_type": "code",
   "execution_count": 9,
   "metadata": {},
   "outputs": [],
   "source": [
    "tfiles={'1':tf_files01,'2':tf_files02,'3':tf_files03,'4':tf_files04,'5':tf_files05,'6':tf_files06,'7':tf_files07,'8':tf_files08,'9':tf_files09,'10':tf_files10,'11':tf_files11,'12':tf_files12}"
   ]
  },
  {
   "cell_type": "code",
   "execution_count": 18,
   "metadata": {},
   "outputs": [
    {
     "name": "stdout",
     "output_type": "stream",
     "text": [
      "/mnt/alberta/equipes/IGE/meom/workdir/albert/NATL60/NATL60-CJM165-S/1d/filt-surf/NATL60-CJM165_y2013m01d*.1d_curloverf_filt-n80-f0.0125.nc\n"
     ]
    }
   ],
   "source": [
    "print str(tfiles['1']"
   ]
  },
  {
   "cell_type": "code",
   "execution_count": 14,
   "metadata": {},
   "outputs": [],
   "source": [
    "def compute_and_save(month):\n",
    "    mm=print \"%02d\" % month\n",
    "    filt_files_month=\"NATL60-CJM165_y2013m\"+str(mm)+\"d*.1d_curloverf_filt-n80-f0.0125.nc\"\n",
    "    tf_files_month=dir+filt_files01\n",
    "\n",
    "\n",
    "    print tfiles_month\n",
    "    loncrsm, latcrsm, boxvarcurl, hpvarm = fine_scale_variance(tfiles_month)\n",
    "    fine_scale_variance_month = xr.DataArray(boxvarcurl,dims=['loncrsm','latcrsm'],name=\"fine_scale_var\")\n",
    "    fine_scale_variance_month.to_dataset().to_netcdf(path=dir+'fine_scale_vorticity_variance_m'+str(month)+'.nc',mode='w',engine='scipy')\n"
   ]
  },
  {
   "cell_type": "code",
   "execution_count": 16,
   "metadata": {},
   "outputs": [],
   "source": [
    "def compute_and_save(month):\n",
    "    tfiles_month=tfiles[str(month)]\n",
    "    print tfiles_month\n"
   ]
  },
  {
   "cell_type": "code",
   "execution_count": 17,
   "metadata": {},
   "outputs": [
    {
     "name": "stdout",
     "output_type": "stream",
     "text": [
      "/mnt/alberta/equipes/IGE/meom/workdir/albert/NATL60/NATL60-CJM165-S/1d/filt-surf/NATL60-CJM165_y2013m01d*.1d_curloverf_filt-n80-f0.0125.nc\n"
     ]
    }
   ],
   "source": [
    "compute_and_save(1)"
   ]
  },
  {
   "cell_type": "code",
   "execution_count": 19,
   "metadata": {},
   "outputs": [
    {
     "name": "stdout",
     "output_type": "stream",
     "text": [
      "01\n"
     ]
    }
   ],
   "source": [
    "print \"%02d\" % (1,)"
   ]
  },
  {
   "cell_type": "code",
   "execution_count": 69,
   "metadata": {},
   "outputs": [
    {
     "ename": "IOError",
     "evalue": "no files to open",
     "output_type": "error",
     "traceback": [
      "\u001b[0;31m---------------------------------------------------------------------------\u001b[0m",
      "\u001b[0;31mIOError\u001b[0m                                   Traceback (most recent call last)",
      "\u001b[0;32m<ipython-input-69-c0a9a4036fba>\u001b[0m in \u001b[0;36m<module>\u001b[0;34m()\u001b[0m\n\u001b[1;32m      1\u001b[0m \u001b[0mmm\u001b[0m\u001b[0;34m=\u001b[0m\u001b[0;36m10\u001b[0m\u001b[0;34m\u001b[0m\u001b[0m\n\u001b[0;32m----> 2\u001b[0;31m \u001b[0mds\u001b[0m\u001b[0;34m=\u001b[0m\u001b[0mxr\u001b[0m\u001b[0;34m.\u001b[0m\u001b[0mopen_mfdataset\u001b[0m\u001b[0;34m(\u001b[0m\u001b[0;34m'/mnt/alberta/equipes/IGE/meom/workdir/albert/NATL60/NATL60-CJM165-S/1d/filt-surf/NATL60-CJM165_y2013m'\u001b[0m\u001b[0;34m+\u001b[0m\u001b[0mstr\u001b[0m\u001b[0;34m(\u001b[0m\u001b[0mmm\u001b[0m\u001b[0;34m)\u001b[0m\u001b[0;34m+\u001b[0m\u001b[0;34m'd??.1d_curloverf_filt-n80-f0.0125.nc'\u001b[0m\u001b[0;34m,\u001b[0m \u001b[0mconcat_dim\u001b[0m\u001b[0;34m=\u001b[0m\u001b[0;34m'time_counter'\u001b[0m\u001b[0;34m)\u001b[0m\u001b[0;34m\u001b[0m\u001b[0m\n\u001b[0m",
      "\u001b[0;32m/home/alberta/anaconda2/envs/lupa/lib/python2.7/site-packages/xarray/backends/api.pyc\u001b[0m in \u001b[0;36mopen_mfdataset\u001b[0;34m(paths, chunks, concat_dim, compat, preprocess, engine, lock, data_vars, coords, autoclose, parallel, **kwargs)\u001b[0m\n\u001b[1;32m    603\u001b[0m \u001b[0;34m\u001b[0m\u001b[0m\n\u001b[1;32m    604\u001b[0m     \u001b[0;32mif\u001b[0m \u001b[0;32mnot\u001b[0m \u001b[0mpaths\u001b[0m\u001b[0;34m:\u001b[0m\u001b[0;34m\u001b[0m\u001b[0m\n\u001b[0;32m--> 605\u001b[0;31m         \u001b[0;32mraise\u001b[0m \u001b[0mIOError\u001b[0m\u001b[0;34m(\u001b[0m\u001b[0;34m'no files to open'\u001b[0m\u001b[0;34m)\u001b[0m\u001b[0;34m\u001b[0m\u001b[0m\n\u001b[0m\u001b[1;32m    606\u001b[0m \u001b[0;34m\u001b[0m\u001b[0m\n\u001b[1;32m    607\u001b[0m     \u001b[0;32mif\u001b[0m \u001b[0mlock\u001b[0m \u001b[0;32mis\u001b[0m \u001b[0mNone\u001b[0m\u001b[0;34m:\u001b[0m\u001b[0;34m\u001b[0m\u001b[0m\n",
      "\u001b[0;31mIOError\u001b[0m: no files to open"
     ]
    }
   ],
   "source": [
    "mm=10\n",
    "ds=xr.open_mfdataset('/mnt/alberta/equipes/IGE/meom/workdir/albert/NATL60/NATL60-CJM165-S/1d/filt-surf/NATL60-CJM165_y2013m'+str(mm)+'d??.1d_curloverf_filt-n80-f0.0125.nc', concat_dim='time_counter')\n"
   ]
  },
  {
   "cell_type": "code",
   "execution_count": 67,
   "metadata": {},
   "outputs": [
    {
     "ename": "IOError",
     "evalue": "no files to open",
     "output_type": "error",
     "traceback": [
      "\u001b[0;31m---------------------------------------------------------------------------\u001b[0m",
      "\u001b[0;31mIOError\u001b[0m                                   Traceback (most recent call last)",
      "\u001b[0;32m<ipython-input-67-64b48b000a04>\u001b[0m in \u001b[0;36m<module>\u001b[0;34m()\u001b[0m\n\u001b[0;32m----> 1\u001b[0;31m \u001b[0mcompute_and_save\u001b[0m\u001b[0;34m(\u001b[0m\u001b[0;36m1\u001b[0m\u001b[0;34m)\u001b[0m\u001b[0;34m\u001b[0m\u001b[0m\n\u001b[0m",
      "\u001b[0;32m<ipython-input-66-521dddb2ec41>\u001b[0m in \u001b[0;36mcompute_and_save\u001b[0;34m(month)\u001b[0m\n\u001b[1;32m      1\u001b[0m \u001b[0;32mdef\u001b[0m \u001b[0mcompute_and_save\u001b[0m\u001b[0;34m(\u001b[0m\u001b[0mmonth\u001b[0m\u001b[0;34m)\u001b[0m\u001b[0;34m:\u001b[0m\u001b[0;34m\u001b[0m\u001b[0m\n\u001b[1;32m      2\u001b[0m     \u001b[0mmm\u001b[0m\u001b[0;34m=\u001b[0m\u001b[0mformat\u001b[0m\u001b[0;34m(\u001b[0m\u001b[0mmonth\u001b[0m\u001b[0;34m,\u001b[0m \u001b[0;34m'02d'\u001b[0m\u001b[0;34m)\u001b[0m\u001b[0;34m\u001b[0m\u001b[0m\n\u001b[0;32m----> 3\u001b[0;31m     \u001b[0mds\u001b[0m\u001b[0;34m=\u001b[0m\u001b[0mxr\u001b[0m\u001b[0;34m.\u001b[0m\u001b[0mopen_mfdataset\u001b[0m\u001b[0;34m(\u001b[0m\u001b[0;34m'/mnt/alberta/equipes/IGE/meom/workdir/albert/NATL60/NATL60-CJM165-S/1d/filt-surf/NATL60-CJM165_y2013m'\u001b[0m\u001b[0;34m+\u001b[0m\u001b[0mstr\u001b[0m\u001b[0;34m(\u001b[0m\u001b[0mmm\u001b[0m\u001b[0;34m)\u001b[0m\u001b[0;34m+\u001b[0m\u001b[0;34m'd??.1d_curloverf_filt-n80-f0.0125.nc'\u001b[0m\u001b[0;34m)\u001b[0m\u001b[0;34m\u001b[0m\u001b[0m\n\u001b[0m",
      "\u001b[0;32m/home/alberta/anaconda2/envs/lupa/lib/python2.7/site-packages/xarray/backends/api.pyc\u001b[0m in \u001b[0;36mopen_mfdataset\u001b[0;34m(paths, chunks, concat_dim, compat, preprocess, engine, lock, data_vars, coords, autoclose, parallel, **kwargs)\u001b[0m\n\u001b[1;32m    603\u001b[0m \u001b[0;34m\u001b[0m\u001b[0m\n\u001b[1;32m    604\u001b[0m     \u001b[0;32mif\u001b[0m \u001b[0;32mnot\u001b[0m \u001b[0mpaths\u001b[0m\u001b[0;34m:\u001b[0m\u001b[0;34m\u001b[0m\u001b[0m\n\u001b[0;32m--> 605\u001b[0;31m         \u001b[0;32mraise\u001b[0m \u001b[0mIOError\u001b[0m\u001b[0;34m(\u001b[0m\u001b[0;34m'no files to open'\u001b[0m\u001b[0;34m)\u001b[0m\u001b[0;34m\u001b[0m\u001b[0m\n\u001b[0m\u001b[1;32m    606\u001b[0m \u001b[0;34m\u001b[0m\u001b[0m\n\u001b[1;32m    607\u001b[0m     \u001b[0;32mif\u001b[0m \u001b[0mlock\u001b[0m \u001b[0;32mis\u001b[0m \u001b[0mNone\u001b[0m\u001b[0;34m:\u001b[0m\u001b[0;34m\u001b[0m\u001b[0m\n",
      "\u001b[0;31mIOError\u001b[0m: no files to open"
     ]
    }
   ],
   "source": [
    "compute_and_save(1)"
   ]
  },
  {
   "cell_type": "code",
   "execution_count": 43,
   "metadata": {},
   "outputs": [
    {
     "name": "stdout",
     "output_type": "stream",
     "text": [
      "/mnt/alberta/equipes/IGE/meom/workdir/albert/NATL60/NATL60-CJM165-S/1d/filt-surf//NATL60-CJM165_y2013m03d01.1d_curloverf_filt-n80-f0.0125.nc\r\n",
      "/mnt/alberta/equipes/IGE/meom/workdir/albert/NATL60/NATL60-CJM165-S/1d/filt-surf//NATL60-CJM165_y2013m03d02.1d_curloverf_filt-n80-f0.0125.nc\r\n",
      "/mnt/alberta/equipes/IGE/meom/workdir/albert/NATL60/NATL60-CJM165-S/1d/filt-surf//NATL60-CJM165_y2013m03d03.1d_curloverf_filt-n80-f0.0125.nc\r\n",
      "/mnt/alberta/equipes/IGE/meom/workdir/albert/NATL60/NATL60-CJM165-S/1d/filt-surf//NATL60-CJM165_y2013m03d04.1d_curloverf_filt-n80-f0.0125.nc\r\n",
      "/mnt/alberta/equipes/IGE/meom/workdir/albert/NATL60/NATL60-CJM165-S/1d/filt-surf//NATL60-CJM165_y2013m03d05.1d_curloverf_filt-n80-f0.0125.nc\r\n",
      "/mnt/alberta/equipes/IGE/meom/workdir/albert/NATL60/NATL60-CJM165-S/1d/filt-surf//NATL60-CJM165_y2013m03d06.1d_curloverf_filt-n80-f0.0125.nc\r\n",
      "/mnt/alberta/equipes/IGE/meom/workdir/albert/NATL60/NATL60-CJM165-S/1d/filt-surf//NATL60-CJM165_y2013m03d07.1d_curloverf_filt-n80-f0.0125.nc\r\n",
      "/mnt/alberta/equipes/IGE/meom/workdir/albert/NATL60/NATL60-CJM165-S/1d/filt-surf//NATL60-CJM165_y2013m03d08.1d_curloverf_filt-n80-f0.0125.nc\r\n",
      "/mnt/alberta/equipes/IGE/meom/workdir/albert/NATL60/NATL60-CJM165-S/1d/filt-surf//NATL60-CJM165_y2013m03d09.1d_curloverf_filt-n80-f0.0125.nc\r\n",
      "/mnt/alberta/equipes/IGE/meom/workdir/albert/NATL60/NATL60-CJM165-S/1d/filt-surf//NATL60-CJM165_y2013m03d10.1d_curloverf_filt-n80-f0.0125.nc\r\n",
      "/mnt/alberta/equipes/IGE/meom/workdir/albert/NATL60/NATL60-CJM165-S/1d/filt-surf//NATL60-CJM165_y2013m03d11.1d_curloverf_filt-n80-f0.0125.nc\r\n",
      "/mnt/alberta/equipes/IGE/meom/workdir/albert/NATL60/NATL60-CJM165-S/1d/filt-surf//NATL60-CJM165_y2013m03d12.1d_curloverf_filt-n80-f0.0125.nc\r\n",
      "/mnt/alberta/equipes/IGE/meom/workdir/albert/NATL60/NATL60-CJM165-S/1d/filt-surf//NATL60-CJM165_y2013m03d13.1d_curloverf_filt-n80-f0.0125.nc\r\n",
      "/mnt/alberta/equipes/IGE/meom/workdir/albert/NATL60/NATL60-CJM165-S/1d/filt-surf//NATL60-CJM165_y2013m03d14.1d_curloverf_filt-n80-f0.0125.nc\r\n",
      "/mnt/alberta/equipes/IGE/meom/workdir/albert/NATL60/NATL60-CJM165-S/1d/filt-surf//NATL60-CJM165_y2013m03d15.1d_curloverf_filt-n80-f0.0125.nc\r\n",
      "/mnt/alberta/equipes/IGE/meom/workdir/albert/NATL60/NATL60-CJM165-S/1d/filt-surf//NATL60-CJM165_y2013m03d16.1d_curloverf_filt-n80-f0.0125.nc\r\n",
      "/mnt/alberta/equipes/IGE/meom/workdir/albert/NATL60/NATL60-CJM165-S/1d/filt-surf//NATL60-CJM165_y2013m03d17.1d_curloverf_filt-n80-f0.0125.nc\r\n",
      "/mnt/alberta/equipes/IGE/meom/workdir/albert/NATL60/NATL60-CJM165-S/1d/filt-surf//NATL60-CJM165_y2013m03d18.1d_curloverf_filt-n80-f0.0125.nc\r\n",
      "/mnt/alberta/equipes/IGE/meom/workdir/albert/NATL60/NATL60-CJM165-S/1d/filt-surf//NATL60-CJM165_y2013m03d19.1d_curloverf_filt-n80-f0.0125.nc\r\n",
      "/mnt/alberta/equipes/IGE/meom/workdir/albert/NATL60/NATL60-CJM165-S/1d/filt-surf//NATL60-CJM165_y2013m03d20.1d_curloverf_filt-n80-f0.0125.nc\r\n",
      "/mnt/alberta/equipes/IGE/meom/workdir/albert/NATL60/NATL60-CJM165-S/1d/filt-surf//NATL60-CJM165_y2013m03d21.1d_curloverf_filt-n80-f0.0125.nc\r\n",
      "/mnt/alberta/equipes/IGE/meom/workdir/albert/NATL60/NATL60-CJM165-S/1d/filt-surf//NATL60-CJM165_y2013m03d22.1d_curloverf_filt-n80-f0.0125.nc\r\n",
      "/mnt/alberta/equipes/IGE/meom/workdir/albert/NATL60/NATL60-CJM165-S/1d/filt-surf//NATL60-CJM165_y2013m03d23.1d_curloverf_filt-n80-f0.0125.nc\r\n",
      "/mnt/alberta/equipes/IGE/meom/workdir/albert/NATL60/NATL60-CJM165-S/1d/filt-surf//NATL60-CJM165_y2013m03d24.1d_curloverf_filt-n80-f0.0125.nc\r\n",
      "/mnt/alberta/equipes/IGE/meom/workdir/albert/NATL60/NATL60-CJM165-S/1d/filt-surf//NATL60-CJM165_y2013m03d25.1d_curloverf_filt-n80-f0.0125.nc\r\n",
      "/mnt/alberta/equipes/IGE/meom/workdir/albert/NATL60/NATL60-CJM165-S/1d/filt-surf//NATL60-CJM165_y2013m03d26.1d_curloverf_filt-n80-f0.0125.nc\r\n",
      "/mnt/alberta/equipes/IGE/meom/workdir/albert/NATL60/NATL60-CJM165-S/1d/filt-surf//NATL60-CJM165_y2013m03d27.1d_curloverf_filt-n80-f0.0125.nc\r\n",
      "/mnt/alberta/equipes/IGE/meom/workdir/albert/NATL60/NATL60-CJM165-S/1d/filt-surf//NATL60-CJM165_y2013m03d28.1d_curloverf_filt-n80-f0.0125.nc\r\n",
      "/mnt/alberta/equipes/IGE/meom/workdir/albert/NATL60/NATL60-CJM165-S/1d/filt-surf//NATL60-CJM165_y2013m03d29.1d_curloverf_filt-n80-f0.0125.nc\r\n",
      "/mnt/alberta/equipes/IGE/meom/workdir/albert/NATL60/NATL60-CJM165-S/1d/filt-surf//NATL60-CJM165_y2013m03d30.1d_curloverf_filt-n80-f0.0125.nc\r\n",
      "/mnt/alberta/equipes/IGE/meom/workdir/albert/NATL60/NATL60-CJM165-S/1d/filt-surf//NATL60-CJM165_y2013m03d31.1d_curloverf_filt-n80-f0.0125.nc\r\n",
      "/mnt/alberta/equipes/IGE/meom/workdir/albert/NATL60/NATL60-CJM165-S/1d/filt-surf//NATL60-CJM165_y2013m09d01.1d_curloverf_filt-n80-f0.0125.nc\r\n",
      "/mnt/alberta/equipes/IGE/meom/workdir/albert/NATL60/NATL60-CJM165-S/1d/filt-surf//NATL60-CJM165_y2013m09d02.1d_curloverf_filt-n80-f0.0125.nc\r\n",
      "/mnt/alberta/equipes/IGE/meom/workdir/albert/NATL60/NATL60-CJM165-S/1d/filt-surf//NATL60-CJM165_y2013m09d03.1d_curloverf_filt-n80-f0.0125.nc\r\n",
      "/mnt/alberta/equipes/IGE/meom/workdir/albert/NATL60/NATL60-CJM165-S/1d/filt-surf//NATL60-CJM165_y2013m09d04.1d_curloverf_filt-n80-f0.0125.nc\r\n",
      "/mnt/alberta/equipes/IGE/meom/workdir/albert/NATL60/NATL60-CJM165-S/1d/filt-surf//NATL60-CJM165_y2013m09d05.1d_curloverf_filt-n80-f0.0125.nc\r\n",
      "/mnt/alberta/equipes/IGE/meom/workdir/albert/NATL60/NATL60-CJM165-S/1d/filt-surf//NATL60-CJM165_y2013m09d06.1d_curloverf_filt-n80-f0.0125.nc\r\n",
      "/mnt/alberta/equipes/IGE/meom/workdir/albert/NATL60/NATL60-CJM165-S/1d/filt-surf//NATL60-CJM165_y2013m09d07.1d_curloverf_filt-n80-f0.0125.nc\r\n",
      "/mnt/alberta/equipes/IGE/meom/workdir/albert/NATL60/NATL60-CJM165-S/1d/filt-surf//NATL60-CJM165_y2013m09d08.1d_curloverf_filt-n80-f0.0125.nc\r\n",
      "/mnt/alberta/equipes/IGE/meom/workdir/albert/NATL60/NATL60-CJM165-S/1d/filt-surf//NATL60-CJM165_y2013m09d09.1d_curloverf_filt-n80-f0.0125.nc\r\n",
      "/mnt/alberta/equipes/IGE/meom/workdir/albert/NATL60/NATL60-CJM165-S/1d/filt-surf//NATL60-CJM165_y2013m09d10.1d_curloverf_filt-n80-f0.0125.nc\r\n",
      "/mnt/alberta/equipes/IGE/meom/workdir/albert/NATL60/NATL60-CJM165-S/1d/filt-surf//NATL60-CJM165_y2013m09d11.1d_curloverf_filt-n80-f0.0125.nc\r\n",
      "/mnt/alberta/equipes/IGE/meom/workdir/albert/NATL60/NATL60-CJM165-S/1d/filt-surf//NATL60-CJM165_y2013m09d12.1d_curloverf_filt-n80-f0.0125.nc\r\n",
      "/mnt/alberta/equipes/IGE/meom/workdir/albert/NATL60/NATL60-CJM165-S/1d/filt-surf//NATL60-CJM165_y2013m09d13.1d_curloverf_filt-n80-f0.0125.nc\r\n",
      "/mnt/alberta/equipes/IGE/meom/workdir/albert/NATL60/NATL60-CJM165-S/1d/filt-surf//NATL60-CJM165_y2013m09d14.1d_curloverf_filt-n80-f0.0125.nc\r\n",
      "/mnt/alberta/equipes/IGE/meom/workdir/albert/NATL60/NATL60-CJM165-S/1d/filt-surf//NATL60-CJM165_y2013m09d15.1d_curloverf_filt-n80-f0.0125.nc\r\n",
      "/mnt/alberta/equipes/IGE/meom/workdir/albert/NATL60/NATL60-CJM165-S/1d/filt-surf//NATL60-CJM165_y2013m09d16.1d_curloverf_filt-n80-f0.0125.nc\r\n",
      "/mnt/alberta/equipes/IGE/meom/workdir/albert/NATL60/NATL60-CJM165-S/1d/filt-surf//NATL60-CJM165_y2013m09d17.1d_curloverf_filt-n80-f0.0125.nc\r\n",
      "/mnt/alberta/equipes/IGE/meom/workdir/albert/NATL60/NATL60-CJM165-S/1d/filt-surf//NATL60-CJM165_y2013m09d18.1d_curloverf_filt-n80-f0.0125.nc\r\n",
      "/mnt/alberta/equipes/IGE/meom/workdir/albert/NATL60/NATL60-CJM165-S/1d/filt-surf//NATL60-CJM165_y2013m09d19.1d_curloverf_filt-n80-f0.0125.nc\r\n",
      "/mnt/alberta/equipes/IGE/meom/workdir/albert/NATL60/NATL60-CJM165-S/1d/filt-surf//NATL60-CJM165_y2013m09d20.1d_curloverf_filt-n80-f0.0125.nc\r\n",
      "/mnt/alberta/equipes/IGE/meom/workdir/albert/NATL60/NATL60-CJM165-S/1d/filt-surf//NATL60-CJM165_y2013m09d21.1d_curloverf_filt-n80-f0.0125.nc\r\n",
      "/mnt/alberta/equipes/IGE/meom/workdir/albert/NATL60/NATL60-CJM165-S/1d/filt-surf//NATL60-CJM165_y2013m09d22.1d_curloverf_filt-n80-f0.0125.nc\r\n",
      "/mnt/alberta/equipes/IGE/meom/workdir/albert/NATL60/NATL60-CJM165-S/1d/filt-surf//NATL60-CJM165_y2013m09d23.1d_curloverf_filt-n80-f0.0125.nc\r\n",
      "/mnt/alberta/equipes/IGE/meom/workdir/albert/NATL60/NATL60-CJM165-S/1d/filt-surf//NATL60-CJM165_y2013m09d24.1d_curloverf_filt-n80-f0.0125.nc\r\n",
      "/mnt/alberta/equipes/IGE/meom/workdir/albert/NATL60/NATL60-CJM165-S/1d/filt-surf//NATL60-CJM165_y2013m09d25.1d_curloverf_filt-n80-f0.0125.nc\r\n",
      "/mnt/alberta/equipes/IGE/meom/workdir/albert/NATL60/NATL60-CJM165-S/1d/filt-surf//NATL60-CJM165_y2013m09d26.1d_curloverf_filt-n80-f0.0125.nc\r\n",
      "/mnt/alberta/equipes/IGE/meom/workdir/albert/NATL60/NATL60-CJM165-S/1d/filt-surf//NATL60-CJM165_y2013m09d27.1d_curloverf_filt-n80-f0.0125.nc\r\n",
      "/mnt/alberta/equipes/IGE/meom/workdir/albert/NATL60/NATL60-CJM165-S/1d/filt-surf//NATL60-CJM165_y2013m09d28.1d_curloverf_filt-n80-f0.0125.nc\r\n",
      "/mnt/alberta/equipes/IGE/meom/workdir/albert/NATL60/NATL60-CJM165-S/1d/filt-surf//NATL60-CJM165_y2013m09d29.1d_curloverf_filt-n80-f0.0125.nc\r\n",
      "/mnt/alberta/equipes/IGE/meom/workdir/albert/NATL60/NATL60-CJM165-S/1d/filt-surf//NATL60-CJM165_y2013m09d30.1d_curloverf_filt-n80-f0.0125.nc\r\n"
     ]
    }
   ],
   "source": [
    "!ls $dir/*1d_curloverf_filt-n80-f0.0125.nc"
   ]
  },
  {
   "cell_type": "code",
   "execution_count": null,
   "metadata": {},
   "outputs": [],
   "source": []
  },
  {
   "cell_type": "code",
   "execution_count": null,
   "metadata": {},
   "outputs": [],
   "source": []
  },
  {
   "cell_type": "code",
   "execution_count": null,
   "metadata": {},
   "outputs": [],
   "source": []
  }
 ],
 "metadata": {
  "kernelspec": {
   "display_name": "lupa-py3",
   "language": "python",
   "name": "lupa-py3"
  },
  "language_info": {
   "codemirror_mode": {
    "name": "ipython",
    "version": 2
   },
   "file_extension": ".py",
   "mimetype": "text/x-python",
   "name": "python",
   "nbconvert_exporter": "python",
   "pygments_lexer": "ipython2",
   "version": "2.7.16"
  }
 },
 "nbformat": 4,
 "nbformat_minor": 2
}
